{
  "metadata": {
    "kernelspec": {
      "name": "javascript",
      "display_name": "JavaScript (Web Worker)",
      "language": "javascript"
    },
    "language_info": {
      "codemirror_mode": {
        "name": "javascript"
      },
      "file_extension": ".js",
      "mimetype": "text/javascript",
      "name": "javascript",
      "nbconvert_exporter": "javascript",
      "pygments_lexer": "javascript",
      "version": "es2017"
    }
  },
  "nbformat_minor": 4,
  "nbformat": 4,
  "cells": [
    {
      "cell_type": "code",
      "source": "function Promise0(resolver) {\n    this.state = false;\n    this.value = undefined;\n    this.waiting = [];\n    // プロミス生成時にresolverを呼び出して解決を試みる\n    resolver(this.resolve);\n}\n\nPromise0.prototype.resolve = function (result) {\n    //console.log(this.state);\n    //if (this.state) return;\n    console.log(\"a\");\n    this.state = true;\n    this.value = result;\n    for (callback in this.waiting) {\n        console.log(\"aaa\");\n        callback(this.value);\n    }\n    this.waiting = [];\n};\n    \nPromise0.prototype.done = function (callback) {\n    console.log(\"b\");\n    console.log(this.state);\n    if (this.state) { console.log(\"d\"); callback(this.value); return; }\n    console.log(\"c\");\n    this.waiting.push(callback);\n};\n    \nPromise0.prototype.then = function (callback) {\n    return new Promise0(function (resolver) {\n        this.done(function (result) {\n            // thenのコールバック関数はプロミスを返すと仮定\n            callback(result).done(resolver);\n        });\n    });\n};\n\nfunction pure(value) {\n    return new Promise0(function (resolve) { resolve(value); });\n}",
      "metadata": {
        "trusted": true
      },
      "outputs": [
        {
          "execution_count": 117,
          "output_type": "execute_result",
          "data": {
            "text/plain": "[Function (anonymous)]"
          },
          "metadata": {}
        }
      ],
      "execution_count": 120
    },
    {
      "cell_type": "code",
      "source": "pure(123).done(console.log);",
      "metadata": {
        "trusted": true
      },
      "outputs": [
        {
          "name": "stdout",
          "text": "a\nb\nfalse\nc\n",
          "output_type": "stream"
        },
        {
          "execution_count": 116,
          "output_type": "execute_result",
          "data": {},
          "metadata": {}
        }
      ],
      "execution_count": 119
    },
    {
      "cell_type": "code",
      "source": "a = {}\nconsole.log(a.xxx)",
      "metadata": {
        "trusted": true
      },
      "outputs": [
        {
          "name": "stdout",
          "text": "\n",
          "output_type": "stream"
        },
        {
          "execution_count": 107,
          "output_type": "execute_result",
          "data": {},
          "metadata": {}
        }
      ],
      "execution_count": 109
    },
    {
      "cell_type": "code",
      "source": "function roll(ms) {\n    return new Promise0(function(resolve) {\n        setTimeout(function () {\n            resolve(Math.floor(Math.random() * 6 + 1));\n        }, ms);\n    });\n}",
      "metadata": {
        "trusted": true
      },
      "outputs": [
        {
          "execution_count": 37,
          "output_type": "execute_result",
          "data": {},
          "metadata": {}
        }
      ],
      "execution_count": 39
    },
    {
      "cell_type": "code",
      "source": "roll(1000).then(function (n) { console.log(n); return roll(1000); })\n          .then(function (n) { console.log(n); return roll(1000); })\n          .done(console.log)",
      "metadata": {
        "trusted": true
      },
      "outputs": [
        {
          "ename": "TypeError",
          "evalue": "this.done is not a function",
          "traceback": [
            "TypeError: this.done is not a function\n    at eval (eval at execute (https://okuisatoshi.github.io/dice-and-promise/extensions/@jupyterlite/javascript-kernel-extension/static/584.7e49152bd31ca0f8291b.js?v=7e49152bd31ca0f8291b:2:13351), <anonymous>:23:18)\n    at new Promise0 (eval at execute (https://okuisatoshi.github.io/dice-and-promise/extensions/@jupyterlite/javascript-kernel-extension/static/584.7e49152bd31ca0f8291b.js?v=7e49152bd31ca0f8291b:2:13351), <anonymous>:31:5)\n    at Promise0.then (eval at execute (https://okuisatoshi.github.io/dice-and-promise/extensions/@jupyterlite/javascript-kernel-extension/static/584.7e49152bd31ca0f8291b.js?v=7e49152bd31ca0f8291b:2:13351), <anonymous>:22:16)\n    at eval (eval at execute (https://okuisatoshi.github.io/dice-and-promise/extensions/@jupyterlite/javascript-kernel-extension/static/584.7e49152bd31ca0f8291b.js?v=7e49152bd31ca0f8291b:2:13351), <anonymous>:1:12)\n    at eval (<anonymous>)\n    at Object.execute (https://okuisatoshi.github.io/dice-and-promise/extensions/@jupyterlite/javascript-kernel-extension/static/584.7e49152bd31ca0f8291b.js?v=7e49152bd31ca0f8291b:2:13351)\n    at o (https://okuisatoshi.github.io/dice-and-promise/extensions/@jupyterlite/javascript-kernel-extension/static/584.7e49152bd31ca0f8291b.js?v=7e49152bd31ca0f8291b:2:10215)"
          ],
          "output_type": "error"
        }
      ],
      "execution_count": 30
    },
    {
      "cell_type": "code",
      "source": "",
      "metadata": {
        "trusted": true
      },
      "outputs": [],
      "execution_count": null
    }
  ]
}