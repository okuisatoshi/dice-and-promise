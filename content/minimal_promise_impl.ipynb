{
  "cells": [
    {
      "cell_type": "markdown",
      "metadata": {},
      "source": [
        "# 最低限のプロミスを自作して理解する\n",
        "\n",
        "- プロミスのレゾルバはプロミスを返さない\n",
        "- Promiseコンストラクタのレゾルバやthenのコールバックはリジェクトに対応しない\n",
        "\n",
        "という仮定のもとで最低限のなんちゃってプロミスを自作して理解する．\n",
        "\n",
        "## 最低限のプロミスの定義"
      ]
    },
    {
      "cell_type": "code",
      "execution_count": null,
      "metadata": {
        "trusted": true
      },
      "outputs": [],
      "source": [
        "function Promise0(resolver) {\n",
        "    this.fulfilled = false;\n",
        "    this.value = undefined;\n",
        "    this.waiting = [];\n",
        "    // resolveはfoo.resolveのようには呼ばれないので\n",
        "    // thisをあらかじめbindしておく\n",
        "    resolver(this.resolve.bind(this));\n",
        "}\n",
        "\n",
        "Promise0.prototype.resolve = function (result) {\n",
        "    if (this.fulfilled) return;\n",
        "    this.fulfilled = true;\n",
        "    // resolveにはプロミスは渡されないと仮定\n",
        "    this.value = result;\n",
        "    for (callback of this.waiting) {\n",
        "        callback(this.value);\n",
        "    }\n",
        "    this.waiting = [];\n",
        "};\n",
        "    \n",
        "Promise0.prototype.done = function (callback) {\n",
        "    if (this.fulfilled) {\n",
        "        let that = this;\n",
        "        // コールバック関数callbackが非同期に実行されることを保証\n",
        "        setTimeout(function() { callback(that.value); }, 0); return; \n",
        "    }\n",
        "    this.waiting.push(callback);\n",
        "};\n",
        "    \n",
        "Promise0.prototype.then = function (onFulfilled) {\n",
        "    let that = this;\n",
        "    return new Promise0(function (resolve) {\n",
        "        that.done(function (result) {\n",
        "            let p = onFulfilled(result);\n",
        "            // thenのコールバックonFulfilledがプロミスを返すことを保証\n",
        "            if (! (p instanceof Promise0)) { p = Promise0.resolve(p); }\n",
        "            p.done(resolve);\n",
        "        });\n",
        "    });\n",
        "};\n",
        "\n",
        "// 値をラップしただけのプロミス\n",
        "Promise0.resolve = function (value) {\n",
        "    return new Promise0(function (resolve) { resolve(value); });\n",
        "}"
      ]
    },
    {
      "cell_type": "markdown",
      "metadata": {},
      "source": [
        "## テスト例"
      ]
    },
    {
      "cell_type": "markdown",
      "metadata": {},
      "source": [
        "以下の例はプロミスが生成時に直ちに解決されるときでも非同期に実行されることの確認"
      ]
    },
    {
      "cell_type": "code",
      "execution_count": null,
      "metadata": {
        "trusted": true
      },
      "outputs": [],
      "source": [
        "console.log(\"BEGIN\");\n",
        "Promise0.resolve(1234).done(console.log);\n",
        "console.log(\"END\");"
      ]
    },
    {
      "cell_type": "markdown",
      "metadata": {},
      "source": [
        "逐次実行，さらにコールバックはプロミス値を返すことの確認"
      ]
    },
    {
      "cell_type": "code",
      "execution_count": null,
      "metadata": {
        "trusted": true
      },
      "outputs": [],
      "source": [
        "console.log(\"BEGIN\");\n",
        "Promise0.resolve(1)\n",
        "    .then(function (n) { console.log(n); return 2; })\n",
        "    .then(function (n) { console.log(n); return 3; })\n",
        "    .then(function (n) { console.log(n); });\n",
        "console.log(\"END\");"
      ]
    },
    {
      "cell_type": "markdown",
      "metadata": {},
      "source": [
        "ms秒後にサイコロをふる"
      ]
    },
    {
      "cell_type": "code",
      "execution_count": null,
      "metadata": {
        "trusted": true
      },
      "outputs": [],
      "source": [
        "function roll(ms) {\n",
        "    return new Promise0(function(resolve) {\n",
        "        setTimeout(function () {\n",
        "            resolve(Math.floor(Math.random() * 6 + 1));\n",
        "        }, ms);\n",
        "    });\n",
        "}"
      ]
    },
    {
      "cell_type": "code",
      "execution_count": null,
      "metadata": {
        "trusted": true
      },
      "outputs": [],
      "source": [
        "roll(1000).done(console.log);"
      ]
    },
    {
      "cell_type": "code",
      "execution_count": null,
      "metadata": {
        "trusted": true
      },
      "outputs": [],
      "source": [
        "roll(1000).then(function (n) { console.log(n); return roll(1000); })\n",
        "          .then(function (n) { console.log(n); return roll(1000); })\n",
        "          .then(function (n) { console.log(n); })    // .done(console.log)でも可"
      ]
    },
    {
      "cell_type": "markdown",
      "metadata": {},
      "source": [
        "## `async`/`await`構文で使うテスト\n",
        "\n",
        "`async`/`await`はthenableなオブジェクト一般に対応している．"
      ]
    },
    {
      "cell_type": "code",
      "execution_count": null,
      "metadata": {
        "trusted": true
      },
      "outputs": [],
      "source": [
        "a_thenable = { then(onFulfilled) { return onFulfilled(123); } };\n",
        "\n",
        "(async function () {\n",
        "    console.log(await a_thenable);\n",
        "})();"
      ]
    },
    {
      "cell_type": "code",
      "execution_count": null,
      "metadata": {
        "trusted": true
      },
      "outputs": [],
      "source": [
        "a_thenable = { then(onFulfilled, onRejected) { return onRejected(123); } };\n",
        "\n",
        "(async function () {\n",
        "    try {\n",
        "        await a_thenable;\n",
        "    } catch (n) {\n",
        "        console.log(n);\n",
        "    }\n",
        "})();"
      ]
    },
    {
      "cell_type": "markdown",
      "metadata": {},
      "source": [
        "なので自作のなんちゃってプロミスにも使えるはず．"
      ]
    },
    {
      "cell_type": "code",
      "execution_count": null,
      "metadata": {
        "trusted": true
      },
      "outputs": [],
      "source": [
        "console.log(\"BEGIN\");\n",
        "(async function() {\n",
        "    console.log(await roll(1000));\n",
        "    console.log(await roll(1000));\n",
        "    console.log(await roll(1000));    \n",
        "})();\n",
        "console.log(\"END\");"
      ]
    },
    {
      "cell_type": "code",
      "execution_count": null,
      "metadata": {
        "trusted": true
      },
      "outputs": [],
      "source": [
        "console.log(\"BEGIN\");\n",
        "(async function() {\n",
        "    for (;;) {\n",
        "        n = await roll(1000);\n",
        "        console.log(n);\n",
        "        if (n == 1) { console.log(\"STOP\"); break; }\n",
        "    }\n",
        "})();\n",
        "console.log(\"END\");"
      ]
    },
    {
      "cell_type": "code",
      "execution_count": null,
      "metadata": {
        "trusted": true
      },
      "outputs": [],
      "source": []
    }
  ],
  "metadata": {
    "kernelspec": {
      "display_name": "JavaScript (Web Worker)",
      "language": "javascript",
      "name": "javascript"
    },
    "language_info": {
      "codemirror_mode": {
        "name": "javascript"
      },
      "file_extension": ".js",
      "mimetype": "text/javascript",
      "name": "javascript",
      "nbconvert_exporter": "javascript",
      "pygments_lexer": "javascript",
      "version": "es2017"
    }
  },
  "nbformat": 4,
  "nbformat_minor": 4
}
