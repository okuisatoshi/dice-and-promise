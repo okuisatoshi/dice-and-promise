{
  "metadata": {
    "kernelspec": {
      "name": "javascript",
      "display_name": "JavaScript (Web Worker)",
      "language": "javascript"
    },
    "language_info": {
      "codemirror_mode": {
        "name": "javascript"
      },
      "file_extension": ".js",
      "mimetype": "text/javascript",
      "name": "javascript",
      "nbconvert_exporter": "javascript",
      "pygments_lexer": "javascript",
      "version": "es2017"
    }
  },
  "nbformat_minor": 4,
  "nbformat": 4,
  "cells": [
    {
      "cell_type": "markdown",
      "source": "# 最低限のプロミスを自作して理解する\n\n- プロミスのレゾルバはプロミスを返さない\n- Promiseコンストラクタのレゾルバやthenのコールバックはリジェクトに対応しない\n\nという仮定のもとで最低限のなんちゃってプロミスを自作して理解する．\n\n## 最低限のプロミスの定義",
      "metadata": {}
    },
    {
      "cell_type": "code",
      "source": "function Promise0(resolver) {\n    this.fulfilled = false;\n    this.value = undefined;\n    this.waiting = [];\n    // resolveはfoo.resolveのようには呼ばれないので\n    // thisをあらかじめbindしておく\n    resolver(this.resolve.bind(this));\n}\n\nPromise0.prototype.resolve = function (result) {\n    if (this.fulfilled) return;\n    this.fulfilled = true;\n    // resolveにはプロミスは渡されないと仮定\n    this.value = result;\n    for (callback of this.waiting) {\n        callback(this.value);\n    }\n    this.waiting = [];\n};\n    \nPromise0.prototype.done = function (callback) {\n    if (this.fulfilled) {\n        let that = this;\n        // コールバック関数callbackが非同期に実行されることを保証\n        setTimeout(function() { callback(that.value); }, 0); return; \n    }\n    this.waiting.push(callback);\n};\n    \nPromise0.prototype.then = function (onFulfilled) {\n    let that = this;\n    return new Promise0(function (resolve) {\n        that.done(function (result) {\n            let p = onFulfilled(result);\n            // thenのコールバックonFulfilledがプロミスを返すことを保証\n            if (! (p instanceof Promise0)) { p = pure(p); }\n            p.done(resolve);\n        });\n    });\n};\n\n// 値をラップしただけのプロミス\nPromise0.resolve = function (value) {\n    return new Promise0(function (resolve) { resolve(value); });\n}",
      "metadata": {
        "trusted": true
      },
      "outputs": [],
      "execution_count": null
    },
    {
      "cell_type": "markdown",
      "source": "## テスト例",
      "metadata": {}
    },
    {
      "cell_type": "markdown",
      "source": "以下の例はプロミスが生成時に直ちに解決されるときでも非同期に実行されることの確認",
      "metadata": {}
    },
    {
      "cell_type": "code",
      "source": "console.log(\"BEGIN\");\nPromise0.resolve(1234).done(console.log);\nconsole.log(\"END\");",
      "metadata": {
        "trusted": true
      },
      "outputs": [],
      "execution_count": null
    },
    {
      "cell_type": "markdown",
      "source": "逐次実行，さらにコールバックはプロミス値を返すことの確認",
      "metadata": {}
    },
    {
      "cell_type": "code",
      "source": "console.log(\"BEGIN\");\nPromise0.resolve(1)\n    .then(function (n) { console.log(n); return 2; })\n    .then(function (n) { console.log(n); return 3; })\n    .then(function (n) { console.log(n); });\nconsole.log(\"END\");",
      "metadata": {
        "trusted": true
      },
      "outputs": [],
      "execution_count": null
    },
    {
      "cell_type": "markdown",
      "source": "ms秒後にサイコロをふる",
      "metadata": {}
    },
    {
      "cell_type": "code",
      "source": "function roll(ms) {\n    return new Promise0(function(resolve) {\n        setTimeout(function () {\n            resolve(Math.floor(Math.random() * 6 + 1));\n        }, ms);\n    });\n}",
      "metadata": {
        "trusted": true
      },
      "outputs": [],
      "execution_count": null
    },
    {
      "cell_type": "code",
      "source": "roll(1000).done(console.log);",
      "metadata": {
        "trusted": true
      },
      "outputs": [],
      "execution_count": null
    },
    {
      "cell_type": "code",
      "source": "roll(1000).then(function (n) { console.log(n); return roll(1000); })\n          .then(function (n) { console.log(n); return roll(1000); })\n          .then(function (n) { console.log(n); })    // .done(console.log)でも可",
      "metadata": {
        "trusted": true
      },
      "outputs": [],
      "execution_count": null
    },
    {
      "cell_type": "markdown",
      "source": "## `async`/`await`構文で使うテスト\n\n`async`/`await`はthenableなオブジェクト一般に対応している．",
      "metadata": {}
    },
    {
      "cell_type": "code",
      "source": "a_thenable = { then(onFulfilled) { return onFulfilled(123); } };\n\n(async function () {\n    console.log(await a_thenable);\n})();",
      "metadata": {
        "trusted": true
      },
      "outputs": [],
      "execution_count": null
    },
    {
      "cell_type": "code",
      "source": "a_thenable = { then(onFulfilled, onRejected) { return onRejected(123); } };\n\n(async function () {\n    try {\n        await a_thenable;\n    } catch (n) {\n        console.log(n);\n    }\n})();",
      "metadata": {
        "trusted": true
      },
      "outputs": [],
      "execution_count": null
    },
    {
      "cell_type": "markdown",
      "source": "なので自作のなんちゃってプロミスにも使えるはず．",
      "metadata": {}
    },
    {
      "cell_type": "code",
      "source": "console.log(\"BEGIN\");\n(async function() {\n    console.log(await roll(1000));\n    console.log(await roll(1000));\n    console.log(await roll(1000));    \n})();\nconsole.log(\"END\");",
      "metadata": {
        "trusted": true
      },
      "outputs": [],
      "execution_count": null
    },
    {
      "cell_type": "code",
      "source": "console.log(\"BEGIN\");\n(async function() {\n    for (;;) {\n        n = await roll(1000);\n        console.log(n);\n        if (n == 1) { console.log(\"STOP\"); break; }\n    }\n})();\nconsole.log(\"END\");",
      "metadata": {
        "trusted": true
      },
      "outputs": [],
      "execution_count": null
    },
    {
      "cell_type": "code",
      "source": "",
      "metadata": {
        "trusted": true
      },
      "outputs": [],
      "execution_count": null
    }
  ]
}