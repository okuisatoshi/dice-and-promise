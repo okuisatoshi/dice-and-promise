{
  "metadata": {
    "kernelspec": {
      "name": "javascript",
      "display_name": "JavaScript (Web Worker)",
      "language": "javascript"
    },
    "language_info": {
      "codemirror_mode": {
        "name": "javascript"
      },
      "file_extension": ".js",
      "mimetype": "text/javascript",
      "name": "javascript",
      "nbconvert_exporter": "javascript",
      "pygments_lexer": "javascript",
      "version": "es2017"
    },
    "colab": {
      "provenance": []
    }
  },
  "nbformat_minor": 5,
  "nbformat": 4,
  "cells": [
    {
      "id": "43db813f",
      "cell_type": "markdown",
      "source": "# サイコロの簡単な例でPromiseを理解する",
      "metadata": {
        "id": "43db813f"
      }
    },
    {
      "id": "85112cf1",
      "cell_type": "markdown",
      "source": "以下は実行する毎に1〜6を無作為に返し，かつコンソールに表示する関数. サイコロ．",
      "metadata": {
        "id": "85112cf1"
      }
    },
    {
      "id": "e6253a29",
      "cell_type": "code",
      "source": "function roll() {\n    const n = Math.floor(Math.random() * 6 + 1);\n    console.log(n);\n    return n;\n}",
      "metadata": {
        "id": "e6253a29",
        "colab": {
          "base_uri": "https://localhost:8080/",
          "height": 135
        },
        "outputId": "4792ed36-019c-4d06-cea9-1a6b55610ad2",
        "trusted": true
      },
      "outputs": [
        {
          "execution_count": 14,
          "output_type": "execute_result",
          "data": {},
          "metadata": {}
        }
      ],
      "execution_count": 22
    },
    {
      "id": "c925bf73",
      "cell_type": "code",
      "source": "for (let i = 0; i < 10; i++) { roll(); }",
      "metadata": {
        "id": "c925bf73",
        "colab": {
          "base_uri": "https://localhost:8080/"
        },
        "outputId": "3bdfcc3c-9507-4f67-e6a2-22dcc839169e",
        "trusted": true
      },
      "outputs": [
        {
          "name": "stdout",
          "text": "3\n1\n6\n1\n6\n6\n1\n2\n1\n5\n",
          "output_type": "stream"
        },
        {
          "execution_count": 20,
          "output_type": "execute_result",
          "data": {
            "text/plain": "5"
          },
          "metadata": {}
        }
      ],
      "execution_count": 23
    },
    {
      "id": "7e8bc6e4",
      "cell_type": "markdown",
      "source": "上の例では一瞬でサイコロを10回投げたが、以下では、1秒ずつ間をおきながら投げるにはどうずればよいかという問題を例にして、JavaScriptでなぜPromiseが多用されるのかを理解していく．まずは(I)プロミスを用いない原始的な方法を理解し、次に(II)プロミスを用いると何がどのように改善されるのかを理解する．最後に(III)async/await構文によって、直感的に分かりやすく簡潔なコードになることを理解する．",
      "metadata": {
        "id": "7e8bc6e4"
      }
    },
    {
      "id": "963dad15",
      "cell_type": "markdown",
      "source": "## I. イベント駆動/コールバックによる方法\n\n簡単な（一見、簡単に見える）問題からはじめる．\n\n**[問題]** 1秒毎にサイコロを全部で3回投げるプログラムをつくる．\n\nできれば以下のように書きたいのだが...．\n```\n1秒待つ;\nroll();\n1秒待つ;\nroll();\n1秒待つ;\nroll();\n```\nJavaScriptでは，残念ながら「1秒待つ」のようなブロックする（何もしないで無駄に待つ）関数・命令はない．全体がシングルスレッドで動くからである．",
      "metadata": {
        "id": "963dad15"
      }
    },
    {
      "id": "a8573063",
      "cell_type": "markdown",
      "source": "実行のブロックが許されないJavaScriptでは、代わりにいわゆる**コールバック**（callback）のスタイルで**絶対にブロックしないようなコードを書いていく**ことになる．つまり`setTimeout()`という関数を用いて、1秒後に`roll()`を呼び出してくれるようにJavaScriptエンジンに登録する．`setTimeout()`関数**自身は登録をおこなうだけなので、ブロックされず、直ちに実行が終了**する（直ちに`hello`が表示される）ことに注意．登録してから（可能なら）およそ1秒後に`roll()`を呼び出すようなイベントが発生し`roll()`が実行される．これは例えばボタンをクリックすればイベントが発生し、あらかじめ登録しておいたイベントハンドラが実行されるのと同じ仕組みである．",
      "metadata": {
        "id": "a8573063"
      }
    },
    {
      "id": "0f840b21",
      "cell_type": "code",
      "source": "setTimeout(roll, 3000);\nconsole.log(\"hello\");",
      "metadata": {
        "id": "0f840b21",
        "colab": {
          "base_uri": "https://localhost:8080/"
        },
        "outputId": "8bd76b37-71c0-427a-aef2-31c1b2ec39ea",
        "trusted": true
      },
      "outputs": [
        {
          "name": "stdout",
          "text": "hello\n",
          "output_type": "stream"
        },
        {
          "execution_count": 22,
          "output_type": "execute_result",
          "data": {},
          "metadata": {}
        },
        {
          "name": "stdout",
          "text": "3\n",
          "output_type": "stream"
        }
      ],
      "execution_count": 25
    },
    {
      "id": "656aa21e",
      "cell_type": "markdown",
      "source": "`setTimeout()`を用いた[問題]の解は以下のようになる．`setTimeout()`で登録した関数の中で`setTimeout()`を用いているので**3重に入れ子**になっている．一見しただけではどのように実行されるのか非常に分かりにくい．",
      "metadata": {
        "id": "656aa21e"
      }
    },
    {
      "id": "54064a07",
      "cell_type": "code",
      "source": "setTimeout(function () {\n    roll();\n    setTimeout(function () {\n        roll();\n        setTimeout(function () {\n            roll();\n        }, 1000);\n    }, 1000);\n}, 1000);\nconsole.log(\"hello\");",
      "metadata": {
        "id": "54064a07",
        "colab": {
          "base_uri": "https://localhost:8080/"
        },
        "outputId": "2e4ed481-d892-4478-d181-bf89d5945852",
        "trusted": true
      },
      "outputs": [
        {
          "name": "stdout",
          "text": "hello\n",
          "output_type": "stream"
        },
        {
          "execution_count": 23,
          "output_type": "execute_result",
          "data": {},
          "metadata": {}
        },
        {
          "name": "stdout",
          "text": "6\n2\n5\n",
          "output_type": "stream"
        }
      ],
      "execution_count": 26
    },
    {
      "id": "80c5a9ce",
      "cell_type": "markdown",
      "source": "続いて先ほどよりやや難しい問題を考えてみる．\n\n**[問題]** 1の目が出るまで1秒毎にサイコロを振るプログラムをつくる．\n\n自然に思いつくのは、ループを用い、サイコロの目が1であれば脱出するというものである（以下）．しかし、このbreakは関数呼び出しをまたいでいるのでコンパイルエラーになる．",
      "metadata": {
        "id": "80c5a9ce"
      }
    },
    {
      "id": "91429348",
      "cell_type": "code",
      "source": "// 誤り\nfor (;;) {\n    setTimeout(function () {\n        if (roll() == 1) break;\n    }, 1000);\n}\nconsole.log(\"hello\");",
      "metadata": {
        "id": "91429348",
        "colab": {
          "base_uri": "https://localhost:8080/",
          "height": 309
        },
        "outputId": "c175bf07-5925-40e9-ce40-a485c0b6373b",
        "trusted": true
      },
      "outputs": [
        {
          "ename": "SyntaxError",
          "evalue": "Illegal break statement",
          "traceback": [
            "SyntaxError: Illegal break statement\n    at eval (<anonymous>)\n    at Object.execute (https://jupyterlite.github.io/demo/extensions/@jupyterlite/javascript-kernel-extension/static/584.7e49152bd31ca0f8291b.js?v=7e49152bd31ca0f8291b:2:13351)\n    at o (https://jupyterlite.github.io/demo/extensions/@jupyterlite/javascript-kernel-extension/static/584.7e49152bd31ca0f8291b.js?v=7e49152bd31ca0f8291b:2:10215)"
          ],
          "output_type": "error"
        }
      ],
      "execution_count": 27
    },
    {
      "id": "ceadb07f",
      "cell_type": "markdown",
      "source": "そこでbreakの代わりにフラグを使ってみるが、これも期待通り動かない．実際、このループの中身は一瞬で実行され、永久ループになる．この理由は`setTimeout()`が決してブロックしないことを考えれば当然である．",
      "metadata": {
        "id": "ceadb07f"
      }
    },
    {
      "id": "f10a8081",
      "cell_type": "code",
      "source": "// 誤り\n// 実行すると永久ループになり結果が返ってこないのでJupyterのKernelを再起動すること\nlet cont = true;\nwhile (cont) {\n    setTimeout(function () {\n        if (roll() == 1) cont = false;\n    }, 1000);\n}\nconsole.log(\"hello\");",
      "metadata": {
        "id": "f10a8081"
      },
      "outputs": [],
      "execution_count": null
    },
    {
      "id": "c6c11081",
      "cell_type": "markdown",
      "source": "同様に以下も誤り．",
      "metadata": {
        "id": "c6c11081"
      }
    },
    {
      "id": "2f774736",
      "cell_type": "code",
      "source": "// 誤り\n// 実行すると永久ループになり結果が返ってこないのでJupyterのKernelを再起動すること\nsetTimeout(function () {\n    while (roll() > 1) {\n        setTimeout(function () {}, 1000);\n    }\n}, 1000);\nconsole.log(\"hello\");",
      "metadata": {
        "id": "2f774736"
      },
      "outputs": [],
      "execution_count": null
    },
    {
      "id": "27e74847",
      "cell_type": "markdown",
      "source": "ループで正しく実現するのは難しいので，関数呼び出しでループを表現したのが以下である．`setTimeout()`で登録される関数の中から再帰的に`roll_until_you_got_1()`を呼び出している．再び呼び出されるときは別のスタックで実行されるので、末尾再帰呼び出しでスタックオーバーフローする心配もない．",
      "metadata": {
        "id": "27e74847"
      }
    },
    {
      "id": "217ae9ba",
      "cell_type": "code",
      "source": "function roll_until_you_got_1() {\n    setTimeout(function() {\n        if (roll() > 1) {\n            roll_until_you_got_1();\n        }\n    }, 1000);\n}\n\nroll_until_you_got_1();\nconsole.log(\"hello\");",
      "metadata": {
        "id": "217ae9ba",
        "colab": {
          "base_uri": "https://localhost:8080/"
        },
        "outputId": "82f9e13c-be7b-47b1-bdfe-ee32f909e01e",
        "trusted": true
      },
      "outputs": [
        {
          "name": "stdout",
          "text": "hello\n",
          "output_type": "stream"
        },
        {
          "execution_count": 36,
          "output_type": "execute_result",
          "data": {},
          "metadata": {}
        },
        {
          "name": "stdout",
          "text": "1\n",
          "output_type": "stream"
        }
      ],
      "execution_count": 47
    },
    {
      "id": "c7d826bb",
      "cell_type": "markdown",
      "source": "## II. プロミスによる方法\n\nJavascript (ES 2015）の**プロミス**という用語は約束手形（promise）から来ている．すなわち後で手に入るかもしれない値を表すオブジェクトである．プロミスからその値を得ることを「プロミスを**解決**（resolve）する」と言う．プロミスを「売り手」と「買い手」をつなぐ「仲介者」あるいは「市場」のようなものだと想像するといいかもしれない．「売り手」が先に「市場」に出品していれば「買い手」は即、その商品（値）を得ることができるが、まだ出品していなければ待たされることになる．JavaScriptでは無駄に待つこと（ブロック）は厳禁なので、後日に商品が出品され次第、連絡をもらえるよう仲介者に頼んでおくことになる（コールバッグ関数の登録）．\n\nプロミスを生成するときには、（まだ手に入っていない）値の代わりに、その値を「市場」に出品する「売り手」の動き方を与える．例えば、以下の関数`wait()`はmsミリ秒後に`undefined`値が手に入る（かもしれない）プロミスを返り値として返す．\n```\nfunction(resolve) {\n    setTimeout(resolve, ms);\n}\n```\nの部分が値`undefined`を出品する「売り手」の動きを記述した部分である．",
      "metadata": {
        "id": "c7d826bb"
      }
    },
    {
      "id": "cc027515",
      "cell_type": "code",
      "source": "function wait(ms) {\n    return new Promise(function(resolve) {\n        setTimeout(resolve, ms);\n    })\n}",
      "metadata": {
        "id": "cc027515",
        "trusted": true
      },
      "outputs": [
        {
          "execution_count": 3,
          "output_type": "execute_result",
          "data": {},
          "metadata": {}
        }
      ],
      "execution_count": 6
    },
    {
      "id": "b395e276",
      "cell_type": "markdown",
      "source": "「仲介者」に出品の連絡をくれるように依頼するのがプロミスの`then()`メソッドである．`then()`メソッドの引数として与えた関数（コールバック関数）が、あとで「売り手」が出品したときに呼び出される．\n\n以下の例では`then()`の引数として与えたコールバック関数は、（可能なら）およそ3秒後に呼び出されることになる（手に入った値`undefined`は使わないのでここでは単に無視している）．`then()`**自身は直ちに完了する**のでhelloのほうが先に表示される．",
      "metadata": {
        "id": "b395e276"
      }
    },
    {
      "id": "78f8c174",
      "cell_type": "code",
      "source": "wait(3000).then(function() {\n    console.log(\"called\"); // （可能なら）およそ3秒後にconsole.logが呼ばれる\n});\nconsole.log(\"hello\");",
      "metadata": {
        "id": "78f8c174",
        "colab": {
          "base_uri": "https://localhost:8080/"
        },
        "outputId": "ff579a97-a74d-48f7-9f8b-5af9978c2d8e",
        "trusted": true
      },
      "outputs": [
        {
          "name": "stdout",
          "text": "hello\n",
          "output_type": "stream"
        },
        {
          "execution_count": 27,
          "output_type": "execute_result",
          "data": {},
          "metadata": {}
        },
        {
          "name": "stdout",
          "text": "called\n",
          "output_type": "stream"
        }
      ],
      "execution_count": 31
    },
    {
      "id": "3a90d35d",
      "cell_type": "markdown",
      "source": "よって最初の問題の解は以下のように`then()`の連鎖で表せる．",
      "metadata": {
        "id": "3a90d35d"
      }
    },
    {
      "id": "b245259f",
      "cell_type": "code",
      "source": "wait(1000).then(function() {\n    roll();\n    return wait(1000).then(function() {\n        roll();\n        return wait(1000).then(function() {\n            roll();\n        });\n    });\n});\nconsole.log(\"hello\");",
      "metadata": {
        "id": "b245259f",
        "colab": {
          "base_uri": "https://localhost:8080/"
        },
        "outputId": "34cdaa83-e9e5-4c08-b518-68d7d7a6606e",
        "trusted": true
      },
      "outputs": [
        {
          "name": "stdout",
          "text": "hello\n",
          "output_type": "stream"
        },
        {
          "execution_count": 28,
          "output_type": "execute_result",
          "data": {},
          "metadata": {}
        },
        {
          "name": "stdout",
          "text": "6\n2\n2\n",
          "output_type": "stream"
        }
      ],
      "execution_count": 32
    },
    {
      "id": "af62a971",
      "cell_type": "markdown",
      "source": "このコードを見る限りでは，`setTimeout()`のときと実質的に同じで、プロミスを導入したメリットが無いようにみえる．実は コールバック関数もまたプロミスを返す関数で、`then()`メソッドもまたプロミスを返す．`then()`メソッドの返すプロミスを解決することは，そのコールバック関数の返すプロミスを解決することと同じである．このことをもっと正確に述べると，以下の等式が成り立つということである．\n\np.then(f).then(g) == p.then(function (x) { return f(x).then(g); })\n\nこの事実をを用いれば`then()`メソッドの入れ子は`then()`メソッドの連鎖（流れ作業）になる． このルールを当てはめて上記のコードを書き換えると以下のような入れ子のない`then()`の連鎖になる．",
      "metadata": {
        "id": "af62a971"
      }
    },
    {
      "id": "06f21855",
      "cell_type": "code",
      "source": "wait(1000).then(function() { roll(); return wait(1000); })\n        　.then(function() { roll(); return wait(1000); })\n        　.then(function() { roll(); });\nconsole.log(\"hello\");",
      "metadata": {
        "id": "06f21855",
        "trusted": true
      },
      "outputs": [
        {
          "name": "stdout",
          "text": "hello\n",
          "output_type": "stream"
        },
        {
          "execution_count": 37,
          "output_type": "execute_result",
          "data": {},
          "metadata": {}
        },
        {
          "name": "stdout",
          "text": "5\n6\n4\n",
          "output_type": "stream"
        }
      ],
      "execution_count": 48
    },
    {
      "id": "0f83cc05",
      "cell_type": "markdown",
      "source": ">**[関数型プログラミングになじみのある人向けのコメント]**\n>\n>`then()`に関する上記の規則は関数型プログラミングで**モナド法則**(monad law)と呼ばれるものの一種である．実際プロミスは一種の（最適化された）継続モナド（continuation monad）であり、`then()`メソッドはモナドのいわゆるbind演算に他ならない（注）．一般にモナドは、単純な計算を合成してより複雑な計算を実現する統一的な手段を提供する．プロミスの強みを一言で言い表すなら、プロミスはモナドの一種であり、それゆえに**単純な非同期計算を組み合わせてより複雑な非同期計算を実現する手段**を提供しているからだと言える．\n\n>（注）もっとも，この解説では省略しているがプロミスには解決に失敗した時に呼び出されるコールバックもあるので，実際の話はもう少し複雑である．",
      "metadata": {
        "id": "0f83cc05",
        "tags": [],
        "editable": true,
        "slideshow": {
          "slide_type": ""
        }
      }
    },
    {
      "id": "33730ca2",
      "cell_type": "markdown",
      "source": "以下は1の目がでるまで繰り返す問題のプロミスによる解である．",
      "metadata": {
        "id": "33730ca2"
      }
    },
    {
      "id": "9f2f9bac",
      "cell_type": "code",
      "source": "function roll_until_you_got_1() {\n    wait(1000).then(function() {\n        if (roll() > 1) {\n            roll_until_you_got_1();\n        }\n    });\n}\n\nroll_until_you_got_1();\nconsole.log(\"hello\");",
      "metadata": {
        "id": "9f2f9bac",
        "trusted": true
      },
      "outputs": [
        {
          "name": "stdout",
          "text": "hello\n",
          "output_type": "stream"
        },
        {
          "execution_count": 30,
          "output_type": "execute_result",
          "data": {},
          "metadata": {}
        },
        {
          "name": "stdout",
          "text": "6\n3\n2\n3\n3\n6\n1\n",
          "output_type": "stream"
        }
      ],
      "execution_count": 34
    },
    {
      "id": "32b9cdbb",
      "cell_type": "markdown",
      "source": "上のコードは`setTimeout()`のときと実質的に同じに見え、このままではあまりうれしくない．だが、プロミスは他のデータと同じように変数に格納したり、引数として渡したり、返り値として返すことができる点が、`setTimeout()`のときとは異なる．この点を活かし、JavaScript (ES 2015)のgeneratorを用いれば、ループを使って書きなおすことができる．\n\nこの解説ではgeneratorについては説明しないが、以下の例：",
      "metadata": {
        "id": "32b9cdbb"
      }
    },
    {
      "id": "97d93899",
      "cell_type": "code",
      "source": "function* code() {\n    for (;;) {\n        yield wait(1000);\n        if (roll() == 1) break;\n    }\n    return 123;\n}\nvar cont = code();",
      "metadata": {
        "id": "97d93899",
        "trusted": true
      },
      "outputs": [
        {
          "execution_count": 15,
          "output_type": "execute_result",
          "data": {},
          "metadata": {}
        }
      ],
      "execution_count": 23
    },
    {
      "id": "66fba0c9",
      "cell_type": "markdown",
      "source": "に対して",
      "metadata": {
        "id": "66fba0c9"
      }
    },
    {
      "id": "58189d8c",
      "cell_type": "code",
      "source": "cont.next()",
      "metadata": {
        "id": "58189d8c",
        "trusted": true
      },
      "outputs": [
        {
          "name": "stdout",
          "text": "1\n",
          "output_type": "stream"
        },
        {
          "execution_count": 29,
          "output_type": "execute_result",
          "data": {
            "text/plain": "{ value: 123, done: true }"
          },
          "metadata": {}
        }
      ],
      "execution_count": 37
    },
    {
      "id": "a38a3786",
      "cell_type": "markdown",
      "source": "を1の目が返るまで繰り返し実行してみればだいたいの感じ（`code`が細切れに中断しながら実行されていく感じ）がつかめると思う．正確には`yield`のところで実行が毎回中断・再開される．この例では`yield`の引数がプロミス`wait(1000)`なので、value:として 毎回、このプロミスが返ってくる．done:の値が`true`になれば、`code`を最後まで実行し終えたということでありvalue:は返り値の123になる．",
      "metadata": {
        "id": "a38a3786"
      }
    },
    {
      "id": "ba3fbb8c",
      "cell_type": "markdown",
      "source": "以下の`async()`は、generatorの`next()`メソッドを呼んで得られるプロミスを解決しながら繰り返し`next()`を呼びなおす関数である．",
      "metadata": {
        "id": "ba3fbb8c"
      }
    },
    {
      "id": "24144225",
      "cell_type": "code",
      "source": "function async(code) {\n    const cont = code();\n\n    function await(a) {\n        if (a.done) return;\n        a.value.then(function() {\n            await(cont.next());\n        });\n    }\n\n    await(cont.next());\n}",
      "metadata": {
        "id": "24144225",
        "trusted": true
      },
      "outputs": [
        {
          "execution_count": 30,
          "output_type": "execute_result",
          "data": {},
          "metadata": {}
        }
      ],
      "execution_count": 38
    },
    {
      "id": "3c3bdd82",
      "cell_type": "markdown",
      "source": "これを使えば、`wait(1000)`の呼び出しがあたかも1秒間ブロックするかのような感覚で（まるで同期的なコードを書くように）直感的に書いたコードを期待通りに実行できる．",
      "metadata": {
        "id": "3c3bdd82"
      }
    },
    {
      "id": "bf5fd72a",
      "cell_type": "code",
      "source": "async(function*() {\n    for (;;) {\n        yield wait(1000);\n        if (roll() == 1) break;\n    }\n});\n\nconsole.log(\"hello\");",
      "metadata": {
        "id": "bf5fd72a",
        "trusted": true
      },
      "outputs": [
        {
          "name": "stdout",
          "text": "hello\n",
          "output_type": "stream"
        },
        {
          "execution_count": 31,
          "output_type": "execute_result",
          "data": {},
          "metadata": {}
        },
        {
          "name": "stdout",
          "text": "1\n",
          "output_type": "stream"
        }
      ],
      "execution_count": 39
    },
    {
      "id": "2f520dcc",
      "cell_type": "markdown",
      "source": "## III. async/await構文の利用\n\nこのように`async()`, `await()`関数を用いれば、プロミスを用いるコードを直感的に分かりやすく記述できる．そこでJavaScript（ES 2016)ではこれを構文として取り入れている（つまり上記のような関数`async()`を自分で書かなくてよい）．",
      "metadata": {
        "id": "2f520dcc"
      }
    },
    {
      "id": "403b2dfb",
      "cell_type": "code",
      "source": "(async function() {\n  await wait(3000);\n  console.log(\"hello\");\n})()",
      "metadata": {
        "id": "403b2dfb",
        "trusted": true
      },
      "outputs": [
        {
          "execution_count": 33,
          "output_type": "execute_result",
          "data": {
            "text/plain": "Promise [Promise] {}"
          },
          "metadata": {}
        },
        {
          "name": "stdout",
          "text": "hello\n",
          "output_type": "stream"
        }
      ],
      "execution_count": 42
    },
    {
      "id": "2d34939e",
      "cell_type": "markdown",
      "source": "await構文を用いれば、最終的に２つの問題の解は以下のように非常に直感的に簡単に与えることができる．",
      "metadata": {
        "id": "2d34939e"
      }
    },
    {
      "id": "4fc5eb2f",
      "cell_type": "code",
      "source": "(async function() {\n  await wait(1000);\n  roll();\n  await wait(1000);\n  roll();\n  await wait(1000);\n  roll();\n  console.log(\"hello\");\n})()",
      "metadata": {
        "id": "4fc5eb2f",
        "trusted": true
      },
      "outputs": [
        {
          "execution_count": 34,
          "output_type": "execute_result",
          "data": {
            "text/plain": "Promise [Promise] {}"
          },
          "metadata": {}
        },
        {
          "name": "stdout",
          "text": "3\n4\n3\nhello\n",
          "output_type": "stream"
        }
      ],
      "execution_count": 43
    },
    {
      "id": "240cb3f9",
      "cell_type": "code",
      "source": "(async function() {\n  for (;;) {\n      await wait(1000);\n      if (roll() == 1) break;\n  }\n  console.log(\"hello\");\n})()",
      "metadata": {
        "id": "240cb3f9",
        "trusted": true
      },
      "outputs": [
        {
          "execution_count": 35,
          "output_type": "execute_result",
          "data": {
            "text/plain": "Promise [Promise] {}"
          },
          "metadata": {}
        },
        {
          "name": "stdout",
          "text": "5\n3\n1\nhello\n",
          "output_type": "stream"
        }
      ],
      "execution_count": 44
    },
    {
      "id": "aa60ab06",
      "cell_type": "markdown",
      "source": "`await`を関数の中で使うときは以下のように関数に`async`をつける．関数には返り値があり、これを無視せずに扱うためである．",
      "metadata": {
        "id": "aa60ab06"
      }
    },
    {
      "id": "afafb864",
      "cell_type": "code",
      "source": "async function roll_until_you_got_1() {\n    for (;;) {\n        await wait(1000);\n        if (roll() == 1) break;\n    }\n}\n\nroll_until_you_got_1();\nconsole.log(\"hello\");",
      "metadata": {
        "id": "afafb864",
        "trusted": true
      },
      "outputs": [
        {
          "name": "stdout",
          "text": "hello\n",
          "output_type": "stream"
        },
        {
          "execution_count": 36,
          "output_type": "execute_result",
          "data": {},
          "metadata": {}
        },
        {
          "name": "stdout",
          "text": "2\n4\n3\n5\n5\n2\n6\n1\n",
          "output_type": "stream"
        }
      ],
      "execution_count": 45
    },
    {
      "id": "add97352",
      "cell_type": "markdown",
      "source": "`async`のついた関数は返り値をプロミスとして返す．",
      "metadata": {
        "id": "add97352"
      }
    },
    {
      "id": "df25f011",
      "cell_type": "code",
      "source": "async function f() {\n    console.log(\"a\");\n    await wait(1000);\n    console.log(\"b\");\n    return 123;\n}",
      "metadata": {
        "id": "df25f011",
        "trusted": true
      },
      "outputs": [
        {
          "execution_count": 37,
          "output_type": "execute_result",
          "data": {},
          "metadata": {}
        }
      ],
      "execution_count": 46
    },
    {
      "id": "5df58d4b",
      "cell_type": "code",
      "source": "f()",
      "metadata": {
        "id": "5df58d4b",
        "trusted": true
      },
      "outputs": [
        {
          "name": "stdout",
          "text": "a\n",
          "output_type": "stream"
        },
        {
          "execution_count": 40,
          "output_type": "execute_result",
          "data": {
            "text/plain": "Promise [Promise] {}"
          },
          "metadata": {}
        },
        {
          "name": "stdout",
          "text": "b\n",
          "output_type": "stream"
        }
      ],
      "execution_count": 51
    },
    {
      "id": "9cbd5eed",
      "cell_type": "code",
      "source": "(async function() {\n    await f();\n})()",
      "metadata": {
        "id": "9cbd5eed",
        "trusted": true
      },
      "outputs": [
        {
          "name": "stdout",
          "text": "a\n",
          "output_type": "stream"
        },
        {
          "execution_count": 39,
          "output_type": "execute_result",
          "data": {
            "text/plain": "Promise [Promise] {}"
          },
          "metadata": {}
        },
        {
          "name": "stdout",
          "text": "b\n",
          "output_type": "stream"
        }
      ],
      "execution_count": 50
    },
    {
      "id": "03885482",
      "cell_type": "markdown",
      "source": "## 練習問題\n\n関数roll(ms)はmsミリ秒待ってからサイコロを投げる関数である．これを用いて上の二つの問題の解をあたえよ．",
      "metadata": {
        "id": "03885482"
      }
    },
    {
      "id": "f8bffca6",
      "cell_type": "code",
      "source": "function roll(ms) {\n    return new Promise(function (resolve) {\n        setTimeout(function () {\n            resolve(Math.floor(Math.random() * 6 + 1));\n        }, ms);\n    });\n}",
      "metadata": {
        "id": "f8bffca6",
        "trusted": true
      },
      "outputs": [
        {
          "execution_count": 43,
          "output_type": "execute_result",
          "data": {},
          "metadata": {}
        }
      ],
      "execution_count": 54
    },
    {
      "id": "0e16ea4a",
      "cell_type": "code",
      "source": "(async function() {\n    await roll(1000);\n})()",
      "metadata": {
        "id": "0e16ea4a",
        "trusted": true
      },
      "outputs": [
        {
          "execution_count": 44,
          "output_type": "execute_result",
          "data": {
            "text/plain": "Promise [Promise] {}"
          },
          "metadata": {}
        }
      ],
      "execution_count": 55
    },
    {
      "id": "c2457dde",
      "cell_type": "markdown",
      "source": "**（参考）async(), await()関数のより完全な定義**\n\n上で与えたasync(), await()はサイコロの例に即して簡略化されている．より汎用的で完全な定義は以下のようになる．",
      "metadata": {
        "id": "c2457dde"
      }
    },
    {
      "id": "5f2fc530",
      "cell_type": "code",
      "source": "function async(code) {\n    return function(...args) {\n        const cont = code.apply(this, args);\n\n        function await({done, value}) {\n            if (done) return Promise.resolve(value);\n            return Promise.resolve(value).then(\n                function (fullfilled) { return await(cont.next(fullfilled)); },\n                function (rejected)   { return await(cont.throw(rejected));  }\n            );\n        }\n\n        try {\n            return await(cont.next());\n        }\n        catch (e) {\n            return Promise.reject(e);\n        }\n    }\n}",
      "metadata": {
        "id": "5f2fc530"
      },
      "outputs": [],
      "execution_count": null
    }
  ]
}