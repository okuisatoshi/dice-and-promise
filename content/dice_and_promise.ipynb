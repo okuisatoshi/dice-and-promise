{
  "cells": [
    {
      "cell_type": "markdown",
      "id": "43db813f",
      "metadata": {
        "id": "43db813f"
      },
      "source": [
        "# サイコロの簡単な例でPromiseを理解する"
      ]
    },
    {
      "cell_type": "markdown",
      "id": "85112cf1",
      "metadata": {
        "id": "85112cf1"
      },
      "source": [
        "以下は実行する毎に1〜6を無作為に返し，かつコンソールに表示する関数. サイコロ．"
      ]
    },
    {
      "cell_type": "code",
      "execution_count": 22,
      "id": "e6253a29",
      "metadata": {
        "colab": {
          "base_uri": "https://localhost:8080/",
          "height": 135
        },
        "id": "e6253a29",
        "outputId": "4792ed36-019c-4d06-cea9-1a6b55610ad2",
        "trusted": true
      },
      "outputs": [
        {
          "data": {},
          "execution_count": 14,
          "metadata": {},
          "output_type": "execute_result"
        }
      ],
      "source": [
        "function roll() {\n",
        "    const n = Math.floor(Math.random() * 6 + 1);\n",
        "    console.log(n);\n",
        "    return n;\n",
        "}"
      ]
    },
    {
      "cell_type": "code",
      "execution_count": null,
      "id": "c925bf73",
      "metadata": {
        "colab": {
          "base_uri": "https://localhost:8080/"
        },
        "id": "c925bf73",
        "outputId": "3bdfcc3c-9507-4f67-e6a2-22dcc839169e",
        "trusted": true
      },
      "outputs": [],
      "source": [
        "for (let i = 0; i < 10; i++) { roll(); }"
      ]
    },
    {
      "cell_type": "markdown",
      "id": "7e8bc6e4",
      "metadata": {
        "id": "7e8bc6e4"
      },
      "source": [
        "上の例では一瞬でサイコロを10回投げたが、以下では、1秒ずつ間をおきながら投げるにはどうずればよいかという問題を例にして、JavaScriptでなぜPromiseが多用されるのかを理解していく．まずは(I)プロミスを用いない原始的な方法を理解し、次に(II)プロミスを用いると何がどのように改善されるのかを理解する．最後に(III)async/await構文によって、直感的に分かりやすく簡潔なコードになることを理解する．"
      ]
    },
    {
      "cell_type": "markdown",
      "id": "963dad15",
      "metadata": {
        "id": "963dad15"
      },
      "source": [
        "## I. イベント駆動/コールバックによる方法\n",
        "\n",
        "簡単な（一見、簡単に見える）問題からはじめる．\n",
        "\n",
        "**[問題]** 1秒毎にサイコロを全部で3回投げるプログラムをつくる．\n",
        "\n",
        "できれば以下のように書きたいのだが...．\n",
        "```\n",
        "1秒待つ;\n",
        "roll();\n",
        "1秒待つ;\n",
        "roll();\n",
        "1秒待つ;\n",
        "roll();\n",
        "```\n",
        "JavaScriptでは，残念ながら「1秒待つ」のようなブロックする（何もしないで無駄に待つ）関数・命令はない．全体がシングルスレッドで動くからである．"
      ]
    },
    {
      "cell_type": "markdown",
      "id": "a8573063",
      "metadata": {
        "id": "a8573063"
      },
      "source": [
        "実行のブロックが許されないJavaScriptでは、代わりにいわゆる**コールバック**（callback）のスタイルで**絶対にブロックしないようなコードを書いていく**ことになる．つまり`setTimeout()`という関数を用いて、1秒後に`roll()`を呼び出してくれるようにJavaScriptエンジンに登録する．`setTimeout()`関数**自身は登録をおこなうだけなので、ブロックされず、直ちに実行が終了**する（直ちに`hello`が表示される）ことに注意．登録してから（可能なら）およそ1秒後に`roll()`を呼び出すようなイベントが発生し`roll()`が実行される．これは例えばボタンをクリックすればイベントが発生し、あらかじめ登録しておいたイベントハンドラが実行されるのと同じ仕組みである．"
      ]
    },
    {
      "cell_type": "code",
      "execution_count": null,
      "id": "0f840b21",
      "metadata": {
        "colab": {
          "base_uri": "https://localhost:8080/"
        },
        "id": "0f840b21",
        "outputId": "8bd76b37-71c0-427a-aef2-31c1b2ec39ea",
        "trusted": true
      },
      "outputs": [],
      "source": [
        "setTimeout(roll, 3000);\n",
        "console.log(\"hello\");"
      ]
    },
    {
      "cell_type": "markdown",
      "id": "656aa21e",
      "metadata": {
        "id": "656aa21e"
      },
      "source": [
        "`setTimeout()`を用いた[問題]の解は以下のようになる．`setTimeout()`で登録した関数の中で`setTimeout()`を用いているので**3重に入れ子**になっている．一見しただけではどのように実行されるのか非常に分かりにくい．"
      ]
    },
    {
      "cell_type": "code",
      "execution_count": null,
      "id": "54064a07",
      "metadata": {
        "colab": {
          "base_uri": "https://localhost:8080/"
        },
        "id": "54064a07",
        "outputId": "2e4ed481-d892-4478-d181-bf89d5945852",
        "trusted": true
      },
      "outputs": [],
      "source": [
        "setTimeout(function () {\n",
        "    roll();\n",
        "    setTimeout(function () {\n",
        "        roll();\n",
        "        setTimeout(function () {\n",
        "            roll();\n",
        "        }, 1000);\n",
        "    }, 1000);\n",
        "}, 1000);\n",
        "console.log(\"hello\");"
      ]
    },
    {
      "cell_type": "markdown",
      "id": "80c5a9ce",
      "metadata": {
        "id": "80c5a9ce"
      },
      "source": [
        "続いて先ほどよりやや難しい問題を考えてみる．\n",
        "\n",
        "**[問題]** 1の目が出るまで1秒毎にサイコロを振るプログラムをつくる．\n",
        "\n",
        "自然に思いつくのは、ループを用い、サイコロの目が1であれば脱出するというものである（以下）．しかし、このbreakは関数呼び出しをまたいでいるのでコンパイルエラーになる．"
      ]
    },
    {
      "cell_type": "code",
      "execution_count": null,
      "id": "91429348",
      "metadata": {
        "colab": {
          "base_uri": "https://localhost:8080/",
          "height": 309
        },
        "id": "91429348",
        "outputId": "c175bf07-5925-40e9-ce40-a485c0b6373b",
        "trusted": true
      },
      "outputs": [],
      "source": [
        "// 誤り\n",
        "for (;;) {\n",
        "    setTimeout(function () {\n",
        "        if (roll() == 1) break;\n",
        "    }, 1000);\n",
        "}\n",
        "console.log(\"hello\");"
      ]
    },
    {
      "cell_type": "markdown",
      "id": "ceadb07f",
      "metadata": {
        "id": "ceadb07f"
      },
      "source": [
        "そこでbreakの代わりにフラグを使ってみるが、これも期待通り動かない．実際、このループの中身は一瞬で実行され、永久ループになる．この理由は`setTimeout()`が決してブロックしないことを考えれば当然である．"
      ]
    },
    {
      "cell_type": "code",
      "execution_count": null,
      "id": "f10a8081",
      "metadata": {
        "id": "f10a8081"
      },
      "outputs": [],
      "source": [
        "// 誤り\n",
        "// 実行すると永久ループになり結果が返ってこないのでJupyterのKernelを再起動すること\n",
        "let cont = true;\n",
        "while (cont) {\n",
        "    setTimeout(function () {\n",
        "        if (roll() == 1) cont = false;\n",
        "    }, 1000);\n",
        "}\n",
        "console.log(\"hello\");"
      ]
    },
    {
      "cell_type": "markdown",
      "id": "c6c11081",
      "metadata": {
        "id": "c6c11081"
      },
      "source": [
        "同様に以下も誤り．"
      ]
    },
    {
      "cell_type": "code",
      "execution_count": null,
      "id": "2f774736",
      "metadata": {
        "id": "2f774736"
      },
      "outputs": [],
      "source": [
        "// 誤り\n",
        "// 実行すると永久ループになり結果が返ってこないのでJupyterのKernelを再起動すること\n",
        "setTimeout(function () {\n",
        "    while (roll() > 1) {\n",
        "        setTimeout(function () {}, 1000);\n",
        "    }\n",
        "}, 1000);\n",
        "console.log(\"hello\");"
      ]
    },
    {
      "cell_type": "markdown",
      "id": "27e74847",
      "metadata": {
        "id": "27e74847"
      },
      "source": [
        "ループで正しく実現するのは難しいので，関数呼び出しでループを表現したのが以下である．`setTimeout()`で登録される関数の中から再帰的に`roll_until_you_got_1()`を呼び出している．再び呼び出されるときは別のスタックで実行されるので、末尾再帰呼び出しでスタックオーバーフローする心配もない．"
      ]
    },
    {
      "cell_type": "code",
      "execution_count": null,
      "id": "217ae9ba",
      "metadata": {
        "colab": {
          "base_uri": "https://localhost:8080/"
        },
        "id": "217ae9ba",
        "outputId": "82f9e13c-be7b-47b1-bdfe-ee32f909e01e",
        "trusted": true
      },
      "outputs": [],
      "source": [
        "function roll_until_you_got_1() {\n",
        "    setTimeout(function() {\n",
        "        if (roll() > 1) {\n",
        "            roll_until_you_got_1();\n",
        "        }\n",
        "    }, 1000);\n",
        "}\n",
        "\n",
        "roll_until_you_got_1();\n",
        "console.log(\"hello\");"
      ]
    },
    {
      "cell_type": "markdown",
      "id": "c7d826bb",
      "metadata": {
        "id": "c7d826bb"
      },
      "source": [
        "## II. プロミスによる方法\n",
        "\n",
        "Javascript (ES 2015）の**プロミス**という用語は約束手形（promise）から来ている．すなわち後で手に入るかもしれない値を表すオブジェクトである．プロミスからその値を得ることを「プロミスを**解決**（resolve）する」と言う．プロミスを「売り手」と「買い手」をつなぐ「仲介者」あるいは「市場」のようなものだと想像するといいかもしれない．「売り手」が先に「市場」に出品していれば「買い手」は即、その商品（値）を得ることができるが、まだ出品していなければ待たされることになる．JavaScriptでは無駄に待つこと（ブロック）は厳禁なので、後日に商品が出品され次第、連絡をもらえるよう仲介者に頼んでおくことになる（コールバッグ関数の登録）．\n",
        "\n",
        "プロミスを生成するときには、（まだ手に入っていない）値の代わりに、その値を「市場」に出品する「売り手」の動き方を与える．例えば、以下の関数`wait()`はmsミリ秒後に`undefined`値が手に入る（かもしれない）プロミスを返り値として返す．\n",
        "```\n",
        "function(resolve) {\n",
        "    setTimeout(resolve, ms);\n",
        "}\n",
        "```\n",
        "の部分が値`undefined`を出品する「売り手」の動きを記述した部分である．"
      ]
    },
    {
      "cell_type": "code",
      "execution_count": 6,
      "id": "cc027515",
      "metadata": {
        "id": "cc027515",
        "trusted": true
      },
      "outputs": [
        {
          "data": {},
          "execution_count": 3,
          "metadata": {},
          "output_type": "execute_result"
        }
      ],
      "source": [
        "function wait(ms) {\n",
        "    return new Promise(function(resolve) {\n",
        "        setTimeout(resolve, ms);\n",
        "    })\n",
        "}"
      ]
    },
    {
      "cell_type": "markdown",
      "id": "b395e276",
      "metadata": {
        "id": "b395e276"
      },
      "source": [
        "「仲介者」に出品の連絡をくれるように依頼するのがプロミスの`then()`メソッドである．`then()`メソッドの引数として与えた関数（コールバック関数）が、あとで「売り手」が出品したときに呼び出される．\n",
        "\n",
        "以下の例では`then()`の引数として与えたコールバック関数は、（可能なら）およそ3秒後に呼び出されることになる（手に入った値`undefined`は使わないのでここでは単に無視している）．`then()`**自身は直ちに完了する**のでhelloのほうが先に表示される．"
      ]
    },
    {
      "cell_type": "code",
      "execution_count": null,
      "id": "78f8c174",
      "metadata": {
        "colab": {
          "base_uri": "https://localhost:8080/"
        },
        "id": "78f8c174",
        "outputId": "ff579a97-a74d-48f7-9f8b-5af9978c2d8e",
        "trusted": true
      },
      "outputs": [],
      "source": [
        "wait(3000).then(function() {\n",
        "    console.log(\"called\"); // （可能なら）およそ3秒後にconsole.logが呼ばれる\n",
        "});\n",
        "console.log(\"hello\");"
      ]
    },
    {
      "cell_type": "markdown",
      "id": "3a90d35d",
      "metadata": {
        "id": "3a90d35d"
      },
      "source": [
        "よって最初の問題の解は以下のように`then()`の連鎖で表せる．"
      ]
    },
    {
      "cell_type": "code",
      "execution_count": null,
      "id": "b245259f",
      "metadata": {
        "colab": {
          "base_uri": "https://localhost:8080/"
        },
        "id": "b245259f",
        "outputId": "34cdaa83-e9e5-4c08-b518-68d7d7a6606e",
        "trusted": true
      },
      "outputs": [],
      "source": [
        "wait(1000).then(function() {\n",
        "    roll();\n",
        "    return wait(1000).then(function() {\n",
        "        roll();\n",
        "        return wait(1000).then(function() {\n",
        "            roll();\n",
        "        });\n",
        "    });\n",
        "});\n",
        "console.log(\"hello\");"
      ]
    },
    {
      "cell_type": "markdown",
      "id": "af62a971",
      "metadata": {
        "id": "af62a971"
      },
      "source": [
        "このコードを見る限りでは，`setTimeout()`のときと実質的に同じで、プロミスを導入したメリットが無いようにみえる．実は コールバック関数もまたプロミスを返す関数で、`then()`メソッドもまたプロミスを返す．`then()`メソッドの返すプロミスを解決することは，そのコールバック関数の返すプロミスを解決することと同じである．このことをもっと正確に述べると，以下の等式が成り立つということである．\n",
        "\n",
        "p.then(f).then(g) == p.then(function (x) { return f(x).then(g); })\n",
        "\n",
        "この事実をを用いれば`then()`メソッドの入れ子は`then()`メソッドの連鎖（流れ作業）になる． このルールを当てはめて上記のコードを書き換えると以下のような入れ子のない`then()`の連鎖になる．"
      ]
    },
    {
      "cell_type": "code",
      "execution_count": null,
      "id": "06f21855",
      "metadata": {
        "id": "06f21855",
        "trusted": true
      },
      "outputs": [],
      "source": [
        "wait(1000).then(function() { roll(); return wait(1000); })\n",
        "        　.then(function() { roll(); return wait(1000); })\n",
        "        　.then(function() { roll(); });\n",
        "console.log(\"hello\");"
      ]
    },
    {
      "cell_type": "markdown",
      "id": "0f83cc05",
      "metadata": {
        "editable": true,
        "id": "0f83cc05",
        "slideshow": {
          "slide_type": ""
        },
        "tags": []
      },
      "source": [
        ">**[関数型プログラミングになじみのある人向けのコメント]**\n",
        ">\n",
        ">`then()`に関する上記の規則は関数型プログラミングで**モナド法則**(monad law)と呼ばれるものの一種である．実際プロミスは一種の（最適化された）継続モナド（continuation monad）であり、`then()`メソッドはモナドのいわゆるbind演算に他ならない（注）．一般にモナドは、単純な計算を合成してより複雑な計算を実現する統一的な手段を提供する．プロミスの強みを一言で言い表すなら、プロミスはモナドの一種であり、それゆえに**単純な非同期計算を組み合わせてより複雑な非同期計算を実現する手段**を提供しているからだと言える．\n",
        "\n",
        ">（注）もっとも，この解説では省略しているがプロミスには解決に失敗した時に呼び出されるコールバックもあるので，実際の話はもう少し複雑である．"
      ]
    },
    {
      "cell_type": "markdown",
      "id": "33730ca2",
      "metadata": {
        "id": "33730ca2"
      },
      "source": [
        "以下は1の目がでるまで繰り返す問題のプロミスによる解である．"
      ]
    },
    {
      "cell_type": "code",
      "execution_count": null,
      "id": "9f2f9bac",
      "metadata": {
        "id": "9f2f9bac",
        "trusted": true
      },
      "outputs": [],
      "source": [
        "function roll_until_you_got_1() {\n",
        "    wait(1000).then(function() {\n",
        "        if (roll() > 1) {\n",
        "            roll_until_you_got_1();\n",
        "        }\n",
        "    });\n",
        "}\n",
        "\n",
        "roll_until_you_got_1();\n",
        "console.log(\"hello\");"
      ]
    },
    {
      "cell_type": "markdown",
      "id": "32b9cdbb",
      "metadata": {
        "id": "32b9cdbb"
      },
      "source": [
        "上のコードは`setTimeout()`のときと実質的に同じに見え、このままではあまりうれしくない．だが、プロミスは他のデータと同じように変数に格納したり、引数として渡したり、返り値として返すことができる点が、`setTimeout()`のときとは異なる．この点を活かし、JavaScript (ES 2015)のgeneratorを用いれば、ループを使って書きなおすことができる．\n",
        "\n",
        "この解説ではgeneratorについては説明しないが、以下の例："
      ]
    },
    {
      "cell_type": "code",
      "execution_count": 23,
      "id": "97d93899",
      "metadata": {
        "id": "97d93899",
        "trusted": true
      },
      "outputs": [
        {
          "data": {},
          "execution_count": 15,
          "metadata": {},
          "output_type": "execute_result"
        }
      ],
      "source": [
        "function* code() {\n",
        "    for (;;) {\n",
        "        yield wait(1000);\n",
        "        if (roll() == 1) break;\n",
        "    }\n",
        "    return 123;\n",
        "}\n",
        "var cont = code();"
      ]
    },
    {
      "cell_type": "markdown",
      "id": "66fba0c9",
      "metadata": {
        "id": "66fba0c9"
      },
      "source": [
        "に対して"
      ]
    },
    {
      "cell_type": "code",
      "execution_count": null,
      "id": "58189d8c",
      "metadata": {
        "id": "58189d8c",
        "trusted": true
      },
      "outputs": [],
      "source": [
        "cont.next()"
      ]
    },
    {
      "cell_type": "markdown",
      "id": "a38a3786",
      "metadata": {
        "id": "a38a3786"
      },
      "source": [
        "を1の目が返るまで繰り返し実行してみればだいたいの感じ（`code`が細切れに中断しながら実行されていく感じ）がつかめると思う．正確には`yield`のところで実行が毎回中断・再開される．この例では`yield`の引数がプロミス`wait(1000)`なので、value:として 毎回、このプロミスが返ってくる．done:の値が`true`になれば、`code`を最後まで実行し終えたということでありvalue:は返り値の123になる．"
      ]
    },
    {
      "cell_type": "markdown",
      "id": "ba3fbb8c",
      "metadata": {
        "id": "ba3fbb8c"
      },
      "source": [
        "以下の`async()`は、generatorの`next()`メソッドを呼んで得られるプロミスを解決しながら繰り返し`next()`を呼びなおす関数である．"
      ]
    },
    {
      "cell_type": "code",
      "execution_count": 38,
      "id": "24144225",
      "metadata": {
        "id": "24144225",
        "trusted": true
      },
      "outputs": [
        {
          "data": {},
          "execution_count": 30,
          "metadata": {},
          "output_type": "execute_result"
        }
      ],
      "source": [
        "function async(code) {\n",
        "    const cont = code();\n",
        "\n",
        "    function await(a) {\n",
        "        if (a.done) return;\n",
        "        a.value.then(function() {\n",
        "            await(cont.next());\n",
        "        });\n",
        "    }\n",
        "\n",
        "    await(cont.next());\n",
        "}"
      ]
    },
    {
      "cell_type": "markdown",
      "id": "3c3bdd82",
      "metadata": {
        "id": "3c3bdd82"
      },
      "source": [
        "これを使えば、`wait(1000)`の呼び出しがあたかも1秒間ブロックするかのような感覚で（まるで同期的なコードを書くように）直感的に書いたコードを期待通りに実行できる．"
      ]
    },
    {
      "cell_type": "code",
      "execution_count": null,
      "id": "bf5fd72a",
      "metadata": {
        "id": "bf5fd72a",
        "trusted": true
      },
      "outputs": [],
      "source": [
        "async(function*() {\n",
        "    for (;;) {\n",
        "        yield wait(1000);\n",
        "        if (roll() == 1) break;\n",
        "    }\n",
        "});\n",
        "\n",
        "console.log(\"hello\");"
      ]
    },
    {
      "cell_type": "markdown",
      "id": "2f520dcc",
      "metadata": {
        "id": "2f520dcc"
      },
      "source": [
        "## III. async/await構文の利用\n",
        "\n",
        "このように`async()`, `await()`関数を用いれば、プロミスを用いるコードを直感的に分かりやすく記述できる．そこでJavaScript（ES 2016)ではこれを構文として取り入れている（つまり上記のような関数`async()`を自分で書かなくてよい）．"
      ]
    },
    {
      "cell_type": "code",
      "execution_count": null,
      "id": "403b2dfb",
      "metadata": {
        "id": "403b2dfb",
        "trusted": true
      },
      "outputs": [],
      "source": [
        "(async function() {\n",
        "  await wait(3000);\n",
        "  console.log(\"hello\");\n",
        "})()"
      ]
    },
    {
      "cell_type": "markdown",
      "id": "2d34939e",
      "metadata": {
        "id": "2d34939e"
      },
      "source": [
        "await構文を用いれば、最終的に２つの問題の解は以下のように非常に直感的に簡単に与えることができる．"
      ]
    },
    {
      "cell_type": "code",
      "execution_count": null,
      "id": "4fc5eb2f",
      "metadata": {
        "id": "4fc5eb2f",
        "trusted": true
      },
      "outputs": [],
      "source": [
        "(async function() {\n",
        "  await wait(1000);\n",
        "  roll();\n",
        "  await wait(1000);\n",
        "  roll();\n",
        "  await wait(1000);\n",
        "  roll();\n",
        "  console.log(\"hello\");\n",
        "})()"
      ]
    },
    {
      "cell_type": "code",
      "execution_count": null,
      "id": "240cb3f9",
      "metadata": {
        "id": "240cb3f9",
        "trusted": true
      },
      "outputs": [],
      "source": [
        "(async function() {\n",
        "  for (;;) {\n",
        "      await wait(1000);\n",
        "      if (roll() == 1) break;\n",
        "  }\n",
        "  console.log(\"hello\");\n",
        "})()"
      ]
    },
    {
      "cell_type": "markdown",
      "id": "aa60ab06",
      "metadata": {
        "id": "aa60ab06"
      },
      "source": [
        "`await`を関数の中で使うときは以下のように関数に`async`をつける．関数には返り値があり、これを無視せずに扱うためである．"
      ]
    },
    {
      "cell_type": "code",
      "execution_count": null,
      "id": "afafb864",
      "metadata": {
        "id": "afafb864",
        "trusted": true
      },
      "outputs": [],
      "source": [
        "async function roll_until_you_got_1() {\n",
        "    for (;;) {\n",
        "        await wait(1000);\n",
        "        if (roll() == 1) break;\n",
        "    }\n",
        "}\n",
        "\n",
        "roll_until_you_got_1();\n",
        "console.log(\"hello\");"
      ]
    },
    {
      "cell_type": "markdown",
      "id": "add97352",
      "metadata": {
        "id": "add97352"
      },
      "source": [
        "`async`のついた関数は返り値をプロミスとして返す．"
      ]
    },
    {
      "cell_type": "code",
      "execution_count": 46,
      "id": "df25f011",
      "metadata": {
        "id": "df25f011",
        "trusted": true
      },
      "outputs": [
        {
          "data": {},
          "execution_count": 37,
          "metadata": {},
          "output_type": "execute_result"
        }
      ],
      "source": [
        "async function f() {\n",
        "    console.log(\"a\");\n",
        "    await wait(1000);\n",
        "    console.log(\"b\");\n",
        "    return 123;\n",
        "}"
      ]
    },
    {
      "cell_type": "code",
      "execution_count": null,
      "id": "5df58d4b",
      "metadata": {
        "id": "5df58d4b",
        "trusted": true
      },
      "outputs": [],
      "source": [
        "f()"
      ]
    },
    {
      "cell_type": "code",
      "execution_count": null,
      "id": "9cbd5eed",
      "metadata": {
        "id": "9cbd5eed",
        "trusted": true
      },
      "outputs": [],
      "source": [
        "(async function() {\n",
        "    await f();\n",
        "})()"
      ]
    },
    {
      "cell_type": "markdown",
      "id": "03885482",
      "metadata": {
        "id": "03885482"
      },
      "source": [
        "## 練習問題\n",
        "\n",
        "関数roll(ms)はmsミリ秒待ってからサイコロを投げる関数である．これを用いて上の二つの問題の解をあたえよ．"
      ]
    },
    {
      "cell_type": "code",
      "execution_count": 54,
      "id": "f8bffca6",
      "metadata": {
        "id": "f8bffca6",
        "trusted": true
      },
      "outputs": [
        {
          "data": {},
          "execution_count": 43,
          "metadata": {},
          "output_type": "execute_result"
        }
      ],
      "source": [
        "function roll(ms) {\n",
        "    return new Promise(function (resolve) {\n",
        "        setTimeout(function () {\n",
        "            resolve(Math.floor(Math.random() * 6 + 1));\n",
        "        }, ms);\n",
        "    });\n",
        "}"
      ]
    },
    {
      "cell_type": "code",
      "execution_count": null,
      "id": "0e16ea4a",
      "metadata": {
        "id": "0e16ea4a",
        "trusted": true
      },
      "outputs": [],
      "source": [
        "(async function() {\n",
        "    n = await roll(1000);\n",
        "    console.log(n);\n",
        "    n = await roll(1000);\n",
        "    console.log(n);\n",
        "    n = await roll(1000);\n",
        "    console.log(n);\n",
        "})()"
      ]
    },
    {
      "cell_type": "code",
      "execution_count": null,
      "id": "7c37a27e",
      "metadata": {},
      "outputs": [],
      "source": [
        "(async function() {\n",
        "    for (;;) {\n",
        "        n = await roll(1000);\n",
        "        console.log(n);\n",
        "        if (n == 1) break;\n",
        "    }\n",
        "})()"
      ]
    },
    {
      "cell_type": "markdown",
      "id": "c2457dde",
      "metadata": {
        "id": "c2457dde"
      },
      "source": [
        "**（参考）async(), await()関数のより完全な定義**\n",
        "\n",
        "上で与えたasync(), await()はサイコロの例に即して簡略化されている．より汎用的で完全な定義は以下のようになる．"
      ]
    },
    {
      "cell_type": "code",
      "execution_count": null,
      "id": "5f2fc530",
      "metadata": {
        "id": "5f2fc530"
      },
      "outputs": [],
      "source": [
        "function async(code) {\n",
        "    return function(...args) {\n",
        "        const cont = code.apply(this, args);\n",
        "\n",
        "        function await({done, value}) {\n",
        "            if (done) return Promise.resolve(value);\n",
        "            return Promise.resolve(value).then(\n",
        "                function (fullfilled) { return await(cont.next(fullfilled)); },\n",
        "                function (rejected)   { return await(cont.throw(rejected));  }\n",
        "            );\n",
        "        }\n",
        "\n",
        "        try {\n",
        "            return await(cont.next());\n",
        "        }\n",
        "        catch (e) {\n",
        "            return Promise.reject(e);\n",
        "        }\n",
        "    }\n",
        "}"
      ]
    }
  ],
  "metadata": {
    "colab": {
      "provenance": []
    },
    "kernelspec": {
      "display_name": "JavaScript (Web Worker)",
      "language": "javascript",
      "name": "javascript"
    },
    "language_info": {
      "codemirror_mode": {
        "name": "javascript"
      },
      "file_extension": ".js",
      "mimetype": "text/javascript",
      "name": "javascript",
      "nbconvert_exporter": "javascript",
      "pygments_lexer": "javascript",
      "version": "es2017"
    }
  },
  "nbformat": 4,
  "nbformat_minor": 5
}
